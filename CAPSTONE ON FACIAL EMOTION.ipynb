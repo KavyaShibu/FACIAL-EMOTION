{
 "cells": [
  {
   "cell_type": "markdown",
   "id": "7782dc91",
   "metadata": {},
   "source": [
    "# CAPSTONE PROJECT ON EMOTION DETECTION"
   ]
  },
  {
   "cell_type": "code",
   "execution_count": 2,
   "id": "954e8302",
   "metadata": {},
   "outputs": [],
   "source": [
    "import pandas as pd\n",
    "import matplotlib.pyplot as plt\n",
    "import numpy as np\n",
    "import seaborn as sns\n",
    "import pathlib\n",
    "\n",
    "from sklearn.preprocessing import StandardScaler\n",
    "\n",
    "import cv2\n",
    "import tensorflow as tf\n",
    "from tensorflow import keras\n",
    "from keras.models import Sequential\n",
    "from keras.layers import Conv2D, MaxPooling2D, Dense, Dropout, Flatten,BatchNormalization\n",
    "from keras_preprocessing.image import load_img\n",
    "from keras_preprocessing.image import img_to_array\n",
    "from keras_preprocessing.image import ImageDataGenerator"
   ]
  },
  {
   "cell_type": "markdown",
   "id": "2670443c",
   "metadata": {},
   "source": [
    "# Load the dataset"
   ]
  },
  {
   "cell_type": "code",
   "execution_count": 3,
   "id": "29e6084f",
   "metadata": {
    "scrolled": true
   },
   "outputs": [
    {
     "name": "stdout",
     "output_type": "stream",
     "text": [
      "C:\\Users\\Lenovo\\Desktop\\facial expression\\Train\n",
      "C:\\Users\\Lenovo\\Desktop\\facial expression\\Validation\n"
     ]
    }
   ],
   "source": [
    "train_data_dir = pathlib.Path(\"C:/Users/Lenovo/Desktop/facial expression/Train\")\n",
    "print(train_data_dir)\n",
    "\n",
    "test_data_dir = pathlib.Path(\"C:/Users/Lenovo/Desktop/facial expression/Validation\")\n",
    "print(test_data_dir)"
   ]
  },
  {
   "cell_type": "code",
   "execution_count": null,
   "id": "6ad132b4",
   "metadata": {},
   "outputs": [],
   "source": [
    "train_data_dir('angry',)"
   ]
  },
  {
   "cell_type": "code",
   "execution_count": 4,
   "id": "a3086872",
   "metadata": {},
   "outputs": [
    {
     "name": "stdout",
     "output_type": "stream",
     "text": [
      "Found 28821 images belonging to 7 classes.\n",
      "Found 7066 images belonging to 7 classes.\n"
     ]
    }
   ],
   "source": [
    "#  Initialize image data generator with rescaling\n",
    "train_data_gen = ImageDataGenerator(    \n",
    "    rescale=1./255,\n",
    "    rotation_range=10,\n",
    "    zoom_range=0.3,\n",
    ")\n",
    "\n",
    "validation_data_gen = ImageDataGenerator(rescale=1./255)\n",
    "\n",
    "# Preprocess all test images\n",
    "train_generator = train_data_gen.flow_from_directory(\n",
    "        'C:/Users/Lenovo/Desktop/facial expression/Train',\n",
    "        target_size=(48, 48),\n",
    "        batch_size=64,\n",
    "        color_mode=\"grayscale\",\n",
    "        class_mode='categorical',\n",
    "        shuffle=True)\n",
    "\n",
    "# Preprocess all train images\n",
    "validation_generator = validation_data_gen.flow_from_directory(\n",
    "        'C:/Users/Lenovo/Desktop/facial expression/Validation',\n",
    "        target_size=(48, 48),\n",
    "        batch_size=64,\n",
    "        color_mode=\"grayscale\",\n",
    "        class_mode='categorical',\n",
    "        shuffle=True)"
   ]
  },
  {
   "cell_type": "markdown",
   "id": "c0c5db23",
   "metadata": {},
   "source": [
    "# Build convolutional neural network"
   ]
  },
  {
   "cell_type": "code",
   "execution_count": 5,
   "id": "ad596f9a",
   "metadata": {},
   "outputs": [
    {
     "name": "stdout",
     "output_type": "stream",
     "text": [
      "Model: \"sequential\"\n",
      "_________________________________________________________________\n",
      " Layer (type)                Output Shape              Param #   \n",
      "=================================================================\n",
      " conv2d (Conv2D)             (None, 46, 46, 32)        320       \n",
      "                                                                 \n",
      " conv2d_1 (Conv2D)           (None, 44, 44, 32)        9248      \n",
      "                                                                 \n",
      " max_pooling2d (MaxPooling2D  (None, 22, 22, 32)       0         \n",
      " )                                                               \n",
      "                                                                 \n",
      " conv2d_2 (Conv2D)           (None, 20, 20, 64)        18496     \n",
      "                                                                 \n",
      " conv2d_3 (Conv2D)           (None, 18, 18, 64)        36928     \n",
      "                                                                 \n",
      " max_pooling2d_1 (MaxPooling  (None, 9, 9, 64)         0         \n",
      " 2D)                                                             \n",
      "                                                                 \n",
      " conv2d_4 (Conv2D)           (None, 7, 7, 128)         73856     \n",
      "                                                                 \n",
      " conv2d_5 (Conv2D)           (None, 5, 5, 128)         147584    \n",
      "                                                                 \n",
      " max_pooling2d_2 (MaxPooling  (None, 2, 2, 128)        0         \n",
      " 2D)                                                             \n",
      "                                                                 \n",
      " dropout (Dropout)           (None, 2, 2, 128)         0         \n",
      "                                                                 \n",
      " flatten (Flatten)           (None, 512)               0         \n",
      "                                                                 \n",
      " dense (Dense)               (None, 512)               262656    \n",
      "                                                                 \n",
      " dropout_1 (Dropout)         (None, 512)               0         \n",
      "                                                                 \n",
      " dense_1 (Dense)             (None, 512)               262656    \n",
      "                                                                 \n",
      " dropout_2 (Dropout)         (None, 512)               0         \n",
      "                                                                 \n",
      " dense_2 (Dense)             (None, 7)                 3591      \n",
      "                                                                 \n",
      "=================================================================\n",
      "Total params: 815,335\n",
      "Trainable params: 815,335\n",
      "Non-trainable params: 0\n",
      "_________________________________________________________________\n"
     ]
    }
   ],
   "source": [
    "# create model structure\n",
    "emotion_model = Sequential([\n",
    "    #block-1\n",
    "    Conv2D(32, kernel_size=(3, 3), activation='relu', input_shape=(48, 48, 1)),\n",
    "    Conv2D(32, kernel_size=(3, 3), activation='relu'),\n",
    "    MaxPooling2D(pool_size=(2, 2)),\n",
    "\n",
    "    #block-2\n",
    "    Conv2D(64, kernel_size=(3, 3), activation='relu'),\n",
    "    Conv2D(64, kernel_size=(3, 3), activation='relu'),\n",
    "    MaxPooling2D(pool_size=(2, 2)),\n",
    "    \n",
    "    #block-3\n",
    "    Conv2D(128, kernel_size=(3, 3), activation='relu'),\n",
    "    Conv2D(128, kernel_size=(3, 3), activation='relu'),\n",
    "    MaxPooling2D(pool_size=(2, 2)),\n",
    "    Dropout(0.2),\n",
    "    \n",
    "    #block-4\n",
    "    Flatten(),\n",
    "    Dense(512, activation='relu'),\n",
    "    Dropout(0.2),\n",
    "    #block-5\n",
    "    Dense(512, activation='relu'),\n",
    "    Dropout(0.2),\n",
    "    Dense(7, activation='softmax')\n",
    "])\n",
    "\n",
    "emotion_model.compile(optimizer=tf.keras.optimizers.Adam(\n",
    "    learning_rate=0.0001,epsilon=1e-06),\n",
    "              loss=\"categorical_crossentropy\",\n",
    "              metrics=['accuracy'])\n",
    "\n",
    "emotion_model.summary()\n"
   ]
  },
  {
   "cell_type": "code",
   "execution_count": 6,
   "id": "764920ac",
   "metadata": {},
   "outputs": [
    {
     "name": "stdout",
     "output_type": "stream",
     "text": [
      "Epoch 1/30\n",
      "448/448 [==============================] - ETA: 0s - loss: 1.8275 - accuracy: 0.2453WARNING:tensorflow:Your input ran out of data; interrupting training. Make sure that your dataset or generator can generate at least `steps_per_epoch * epochs` batches (in this case, 112 batches). You may need to use the repeat() function when building your dataset.\n",
      "448/448 [==============================] - 344s 761ms/step - loss: 1.8275 - accuracy: 0.2453 - val_loss: 1.8109 - val_accuracy: 0.2583\n",
      "Epoch 2/30\n",
      "448/448 [==============================] - 315s 702ms/step - loss: 1.7980 - accuracy: 0.2487\n",
      "Epoch 3/30\n",
      "448/448 [==============================] - 303s 675ms/step - loss: 1.7279 - accuracy: 0.2934\n",
      "Epoch 4/30\n",
      "448/448 [==============================] - 214s 477ms/step - loss: 1.6578 - accuracy: 0.3374\n",
      "Epoch 5/30\n",
      "448/448 [==============================] - 226s 504ms/step - loss: 1.6025 - accuracy: 0.3670\n",
      "Epoch 6/30\n",
      "448/448 [==============================] - 6079s 14s/step - loss: 1.5577 - accuracy: 0.3916\n",
      "Epoch 7/30\n",
      "448/448 [==============================] - 241s 538ms/step - loss: 1.5255 - accuracy: 0.4065\n",
      "Epoch 8/30\n",
      "448/448 [==============================] - 244s 545ms/step - loss: 1.4914 - accuracy: 0.4223\n",
      "Epoch 9/30\n",
      "448/448 [==============================] - 227s 507ms/step - loss: 1.4547 - accuracy: 0.4396\n",
      "Epoch 10/30\n",
      "448/448 [==============================] - 231s 516ms/step - loss: 1.4307 - accuracy: 0.4509\n",
      "Epoch 11/30\n",
      "448/448 [==============================] - 231s 516ms/step - loss: 1.4016 - accuracy: 0.4609\n",
      "Epoch 12/30\n",
      "448/448 [==============================] - 218s 487ms/step - loss: 1.3794 - accuracy: 0.4698\n",
      "Epoch 13/30\n",
      "448/448 [==============================] - 209s 466ms/step - loss: 1.3575 - accuracy: 0.4804\n",
      "Epoch 14/30\n",
      "448/448 [==============================] - 212s 474ms/step - loss: 1.3369 - accuracy: 0.4855\n",
      "Epoch 15/30\n",
      "448/448 [==============================] - 238s 532ms/step - loss: 1.3206 - accuracy: 0.4929\n",
      "Epoch 16/30\n",
      "448/448 [==============================] - 225s 502ms/step - loss: 1.2964 - accuracy: 0.5044\n",
      "Epoch 17/30\n",
      "448/448 [==============================] - 218s 486ms/step - loss: 1.2838 - accuracy: 0.5098\n",
      "Epoch 18/30\n",
      "448/448 [==============================] - 230s 513ms/step - loss: 1.2631 - accuracy: 0.5182\n",
      "Epoch 19/30\n",
      "448/448 [==============================] - 224s 499ms/step - loss: 1.2460 - accuracy: 0.5262\n",
      "Epoch 20/30\n",
      "448/448 [==============================] - 221s 493ms/step - loss: 1.2406 - accuracy: 0.5288\n",
      "Epoch 21/30\n",
      "448/448 [==============================] - 208s 464ms/step - loss: 1.2229 - accuracy: 0.5352\n",
      "Epoch 22/30\n",
      "448/448 [==============================] - 233s 521ms/step - loss: 1.2166 - accuracy: 0.5381\n",
      "Epoch 23/30\n",
      "448/448 [==============================] - 228s 508ms/step - loss: 1.2014 - accuracy: 0.5461\n",
      "Epoch 24/30\n",
      "448/448 [==============================] - 224s 499ms/step - loss: 1.1924 - accuracy: 0.5446\n",
      "Epoch 25/30\n",
      "448/448 [==============================] - 388s 866ms/step - loss: 1.1757 - accuracy: 0.5505\n",
      "Epoch 26/30\n",
      "448/448 [==============================] - 271s 606ms/step - loss: 1.1686 - accuracy: 0.5547\n",
      "Epoch 27/30\n",
      "448/448 [==============================] - 237s 529ms/step - loss: 1.1600 - accuracy: 0.5604\n",
      "Epoch 28/30\n",
      "448/448 [==============================] - 229s 510ms/step - loss: 1.1517 - accuracy: 0.5655\n",
      "Epoch 29/30\n",
      "448/448 [==============================] - 232s 517ms/step - loss: 1.1416 - accuracy: 0.5689\n",
      "Epoch 30/30\n",
      "448/448 [==============================] - 220s 490ms/step - loss: 1.1338 - accuracy: 0.5714\n"
     ]
    }
   ],
   "source": [
    "# Train the neural network/model\n",
    "emotion_model_info = emotion_model.fit(\n",
    "        train_generator,\n",
    "        steps_per_epoch=28709 // 64,\n",
    "        epochs=30,\n",
    "        validation_data=validation_generator,\n",
    "        validation_steps=7178 // 64)"
   ]
  },
  {
   "cell_type": "markdown",
   "id": "8b784cc7",
   "metadata": {},
   "source": [
    "# Visualize Training Performance"
   ]
  },
  {
   "cell_type": "code",
   "execution_count": 8,
   "id": "a6d26822",
   "metadata": {},
   "outputs": [
    {
     "name": "stdout",
     "output_type": "stream",
     "text": [
      "dict_keys(['loss', 'accuracy', 'val_loss', 'val_accuracy'])\n"
     ]
    }
   ],
   "source": [
    "print(emotion_model_info.history.keys())"
   ]
  },
  {
   "cell_type": "code",
   "execution_count": 9,
   "id": "b5d90e61",
   "metadata": {},
   "outputs": [
    {
     "data": {
      "image/png": "[encoded data removed]",
      "text/plain": [
       "<Figure size 432x288 with 1 Axes>"
      ]
     },
     "metadata": {
      "needs_background": "light"
     },
     "output_type": "display_data"
    }
   ],
   "source": [
    "import matplotlib.pyplot as plt\n",
    "plt.grid()\n",
    "plt.plot(emotion_model_info.history['accuracy'], label='train_accuracy')\n",
    "plt.plot(emotion_model_info.history['loss'], label = 'train_loss')\n",
    "plt.plot(emotion_model_info.history['val_accuracy'], label='val_accuracy')\n",
    "plt.plot(emotion_model_info.history['val_loss'], label = 'val_loss')\n",
    "plt.xlabel('Epoch')\n",
    "plt.ylabel('Accuracy')\n",
    "plt.ylim([-0.5, 1.2])\n",
    "plt.legend(loc='lower right')\n",
    "plt.show()"
   ]
  },
  {
   "cell_type": "markdown",
   "id": "b4f07daa",
   "metadata": {},
   "source": [
    "# Saving the model"
   ]
  },
  {
   "cell_type": "code",
   "execution_count": 10,
   "id": "2be84e5f",
   "metadata": {},
   "outputs": [],
   "source": [
    "emotion_model.save('facial_emotions_model.h5')"
   ]
  },
  {
   "cell_type": "markdown",
   "id": "42d399f0",
   "metadata": {},
   "source": [
    "# Test/Predict Image"
   ]
  },
  {
   "cell_type": "code",
   "execution_count": 11,
   "id": "8c139e39",
   "metadata": {},
   "outputs": [
    {
     "name": "stdout",
     "output_type": "stream",
     "text": [
      "(48, 48, 1)\n"
     ]
    },
    {
     "data": {
      "image/png": "[encoded data removed]",
      "text/plain": [
       "<Figure size 432x288 with 1 Axes>"
      ]
     },
     "metadata": {
      "needs_background": "light"
     },
     "output_type": "display_data"
    }
   ],
   "source": [
    "from tensorflow.keras.preprocessing import image\n",
    "img_path='C:/Users/Lenovo/Desktop/facial expression/prediction/happy.jpeg'\n",
    "test_image=image.load_img(img_path,target_size=(48,48),color_mode='grayscale')\n",
    "test_image=image.img_to_array(test_image)\n",
    "print(test_image.shape)\n",
    "plt.imshow(test_image)\n",
    "plt.show()"
   ]
  },
  {
   "cell_type": "code",
   "execution_count": 13,
   "id": "de09c118",
   "metadata": {},
   "outputs": [
    {
     "name": "stdout",
     "output_type": "stream",
     "text": [
      "1/1 [==============================] - 0s 186ms/step\n",
      "[0. 0. 1. 0. 0. 0. 0.]\n",
      "The person facial emotion is: Fear\n"
     ]
    }
   ],
   "source": [
    "test_image=test_image.reshape(1,48,48,1)\n",
    "classes=['Angry','disgust','Fear','Happy','neutral','sad','surprise']\n",
    "result=emotion_model.predict(test_image)\n",
    "print(result[0])\n",
    "y_pred=np.argmax(result[0])\n",
    "print('The person facial emotion is:',classes[y_pred])"
   ]
  },
  {
   "cell_type": "code",
   "execution_count": null,
   "id": "afda502d",
   "metadata": {},
   "outputs": [],
   "source": []
  }
 ],
 "metadata": {
  "kernelspec": {
   "display_name": "Python 3 (ipykernel)",
   "language": "python",
   "name": "python3"
  },
  "language_info": {
   "codemirror_mode": {
    "name": "ipython",
    "version": 3
   },
   "file_extension": ".py",
   "mimetype": "text/x-python",
   "name": "python",
   "nbconvert_exporter": "python",
   "pygments_lexer": "ipython3",
   "version": "3.9.12"
  }
 },
 "nbformat": 4,
 "nbformat_minor": 5
}
